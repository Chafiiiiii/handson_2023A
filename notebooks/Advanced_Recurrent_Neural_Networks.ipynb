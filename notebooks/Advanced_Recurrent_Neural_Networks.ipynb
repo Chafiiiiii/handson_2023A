{
  "nbformat": 4,
  "nbformat_minor": 0,
  "metadata": {
    "colab": {
      "provenance": []
    },
    "kernelspec": {
      "name": "python3",
      "display_name": "Python 3"
    },
    "language_info": {
      "name": "python"
    }
  },
  "cells": [
    {
      "cell_type": "markdown",
      "source": [
        "\n",
        "\n",
        "# **12 Advanced Recurrent Neural Networks**\n"
      ],
      "metadata": {
        "id": "XFAs1G_WjU84"
      }
    },
    {
      "cell_type": "markdown",
      "source": [
        "Advanced Neural Network architectures represent significant advancements in the field of deep learning, which are most used in the domain of sequence modeling and processing. These architectures build upon the traditional feedforward neural networks and introduce recurrent connections, allowing them to exhibit temporal dynamics and memory capabilities."
      ],
      "metadata": {
        "id": "55c_vzkEje5Z"
      }
    },
    {
      "cell_type": "markdown",
      "source": [
        "\n",
        "\n",
        "*   The Elman RNN employs a simple recurrent loop in its hidden layer, enabling it to capture short-term temporal dependencies, making it suitable for applications such as speech recognition and time series analysis.\n",
        "\n",
        "*   The Jordan RNN possesses feedback connections from the output layer to the hidden layer, rendering it capable of modeling longer-term dependencies, which finds applications in machine translation and language modeling tasks.\n",
        "*   The Bidirectional RNN combines both forward and backward temporal processing, allowing it to consider both past and future context in its predictions, making it effective in natural language processing tasks such as sentiment analysis and named entity recognition.\n",
        "\n",
        "\n",
        "\n",
        "\n"
      ],
      "metadata": {
        "id": "6qiaGDsrjhQP"
      }
    },
    {
      "cell_type": "markdown",
      "source": [
        "These advanced neural network architectures significantly expand the modeling capabilities of traditional neural networks and have become indispensable tools in various sequential data processing applications."
      ],
      "metadata": {
        "id": "FEW0Ip3Sjsjo"
      }
    },
    {
      "cell_type": "markdown",
      "source": [
        "# Exercise"
      ],
      "metadata": {
        "id": "8oJu7ke4jutZ"
      }
    },
    {
      "cell_type": "markdown",
      "source": [
        "Use the IMDB movie reviews dataset to perform sentiment analysis with a Elman, Jordan and Bidirectional RNN. Highlight the differences on the performance of each architecture."
      ],
      "metadata": {
        "id": "zaa-vZZqjwuj"
      }
    },
    {
      "cell_type": "code",
      "execution_count": 4,
      "metadata": {
        "id": "7E7RLf_9Xuhn"
      },
      "outputs": [],
      "source": [
        "from keras.datasets import imdb\n",
        "from keras.preprocessing import sequence\n",
        "from tensorflow.keras.preprocessing.sequence import pad_sequences\n",
        "from keras.models import Sequential\n",
        "from keras.layers import Embedding, SimpleRNN, Dense, Bidirectional"
      ]
    },
    {
      "cell_type": "markdown",
      "source": [
        "\n",
        "\n",
        "1.   Load the IMDB movie reviews dataset\n",
        "\n"
      ],
      "metadata": {
        "id": "MKoMlVKyj2G5"
      }
    },
    {
      "cell_type": "code",
      "source": [
        "max_features = 5000  # Number of words to consider as features\n",
        "max_len_short = 100  # Maximum sequence length for short sequences\n",
        "max_len_long = 500   # Maximum sequence length for long sequences\n",
        "\n",
        "(x_train, y_train), (x_test, y_test) = imdb.load_data(num_words=max_features)"
      ],
      "metadata": {
        "id": "CbzV_Q6kYCoy"
      },
      "execution_count": 5,
      "outputs": []
    },
    {
      "cell_type": "markdown",
      "source": [
        "\n",
        "\n",
        "\n",
        "2.   Pad sequences to a fixed length for RNN input\n",
        "\n"
      ],
      "metadata": {
        "id": "FuLM1eiSj5jS"
      }
    },
    {
      "cell_type": "code",
      "source": [
        "x_train_short = pad_sequences(x_train, maxlen=max_len_short)\n",
        "x_test_short =pad_sequences(x_test, maxlen=max_len_short)\n",
        "\n",
        "x_train_long = pad_sequences(x_train, maxlen=max_len_long)\n",
        "x_test_long = pad_sequences(x_test, maxlen=max_len_long)"
      ],
      "metadata": {
        "id": "JnSXMA7OYE2F"
      },
      "execution_count": 7,
      "outputs": []
    },
    {
      "cell_type": "markdown",
      "source": [
        "\n",
        "\n",
        "\n",
        "3. Build the distinct RNN models\n",
        "\n"
      ],
      "metadata": {
        "id": "02dcuA12j82F"
      }
    },
    {
      "cell_type": "code",
      "source": [
        "def build_elman_rnn_model():\n",
        "    model = Sequential()\n",
        "    model.add(Embedding(max_features, 32))\n",
        "    model.add(SimpleRNN(32, activation='relu'))\n",
        "    model.add(Dense(1, activation='sigmoid'))\n",
        "    return model\n",
        "\n",
        "def build_jordan_rnn_model():\n",
        "    model = Sequential()\n",
        "    model.add(Embedding(max_features, 32))\n",
        "    model.add(SimpleRNN(32, activation='relu', return_sequences=False))\n",
        "    model.add(Dense(1, activation='sigmoid'))\n",
        "    return model\n",
        "\n",
        "def build_bidirectional_rnn_model():\n",
        "    model = Sequential()\n",
        "    model.add(Embedding(max_features, 32))\n",
        "    model.add(Bidirectional(SimpleRNN(32, activation='relu')))\n",
        "    model.add(Dense(1, activation='sigmoid'))\n",
        "    return model"
      ],
      "metadata": {
        "id": "cXGiN-vNYJJB"
      },
      "execution_count": 14,
      "outputs": []
    },
    {
      "cell_type": "markdown",
      "source": [
        "\n",
        "\n",
        "4. Train and evaluate the RNN model\n",
        "\n"
      ],
      "metadata": {
        "id": "VU1OXyEVkBE1"
      }
    },
    {
      "cell_type": "code",
      "source": [
        "def train_and_evaluate_model(model, x_train, y_train, x_test, y_test):\n",
        "    model.compile(optimizer='adam', loss='binary_crossentropy', metrics=['accuracy'])\n",
        "    history = model.fit(x_train, y_train, epochs=5, batch_size=128, validation_split=0.2)\n",
        "    loss, accuracy = model.evaluate(x_test, y_test)\n",
        "    return loss, accuracy, history"
      ],
      "metadata": {
        "id": "JugdkAQ_ZXzS"
      },
      "execution_count": 15,
      "outputs": []
    },
    {
      "cell_type": "markdown",
      "source": [
        "5. Train and evaluate the RNN model on short sequences"
      ],
      "metadata": {
        "id": "CqLEonPikIGF"
      }
    },
    {
      "cell_type": "code",
      "source": [
        "print(\"\\nTraining RNN model on short sequences:\")\n",
        "rnn_model_short = build_elman_rnn_model()\n",
        "loss_short, accuracy_short, history_short = train_and_evaluate_model(\n",
        "    rnn_model_short, x_train_short, y_train, x_test_short, y_test\n",
        ")"
      ],
      "metadata": {
        "colab": {
          "base_uri": "https://localhost:8080/"
        },
        "id": "Bl4jtlh8Zb6R",
        "outputId": "04f37207-e48a-44a5-a5fa-bdaca2e282c7"
      },
      "execution_count": 10,
      "outputs": [
        {
          "output_type": "stream",
          "name": "stdout",
          "text": [
            "\n",
            "Training RNN model on short sequences:\n",
            "Epoch 1/5\n",
            "157/157 [==============================] - 8s 40ms/step - loss: 0.6648 - accuracy: 0.5921 - val_loss: 0.6072 - val_accuracy: 0.6686\n",
            "Epoch 2/5\n",
            "157/157 [==============================] - 8s 49ms/step - loss: 0.4342 - accuracy: 0.8012 - val_loss: 0.3821 - val_accuracy: 0.8300\n",
            "Epoch 3/5\n",
            "157/157 [==============================] - 6s 38ms/step - loss: 0.3028 - accuracy: 0.8722 - val_loss: 0.3576 - val_accuracy: 0.8340\n",
            "Epoch 4/5\n",
            "157/157 [==============================] - 7s 47ms/step - loss: 0.2506 - accuracy: 0.8974 - val_loss: 0.3693 - val_accuracy: 0.8428\n",
            "Epoch 5/5\n",
            "157/157 [==============================] - 6s 38ms/step - loss: 0.2043 - accuracy: 0.9212 - val_loss: 0.4121 - val_accuracy: 0.8296\n",
            "782/782 [==============================] - 7s 8ms/step - loss: 0.4187 - accuracy: 0.8300\n"
          ]
        }
      ]
    },
    {
      "cell_type": "markdown",
      "source": [
        "6. Train and evaluate the RNN model on long sequences"
      ],
      "metadata": {
        "id": "pDyUo22UkNI2"
      }
    },
    {
      "cell_type": "code",
      "source": [
        "print(\"\\nTraining Elman RNN model on long sequences:\")\n",
        "rnn_model_long = build_elman_rnn_model()\n",
        "loss_long, accuracy_long, history_long = train_and_evaluate_model(\n",
        "    rnn_model_long, x_train_long, y_train, x_test_long, y_test\n",
        ")"
      ],
      "metadata": {
        "colab": {
          "base_uri": "https://localhost:8080/"
        },
        "id": "UzIXgMMwZdsj",
        "outputId": "aba92749-ed16-4158-d899-1e5e736995f1"
      },
      "execution_count": 11,
      "outputs": [
        {
          "output_type": "stream",
          "name": "stdout",
          "text": [
            "\n",
            "Training Elman RNN model on long sequences:\n",
            "Epoch 1/5\n",
            "157/157 [==============================] - 32s 194ms/step - loss: 0.5874 - accuracy: 0.6894 - val_loss: 0.3995 - val_accuracy: 0.8272\n",
            "Epoch 2/5\n",
            "157/157 [==============================] - 31s 196ms/step - loss: 0.3316 - accuracy: 0.8618 - val_loss: 0.3432 - val_accuracy: 0.8510\n",
            "Epoch 3/5\n",
            "157/157 [==============================] - 29s 185ms/step - loss: 0.3707 - accuracy: 0.8383 - val_loss: 0.3515 - val_accuracy: 0.8442\n",
            "Epoch 4/5\n",
            "157/157 [==============================] - 30s 190ms/step - loss: 0.2597 - accuracy: 0.8957 - val_loss: 0.3387 - val_accuracy: 0.8708\n",
            "Epoch 5/5\n",
            "157/157 [==============================] - 30s 190ms/step - loss: 0.2374 - accuracy: 0.9075 - val_loss: 0.3219 - val_accuracy: 0.8664\n",
            "782/782 [==============================] - 23s 30ms/step - loss: 0.3216 - accuracy: 0.8660\n"
          ]
        }
      ]
    },
    {
      "cell_type": "markdown",
      "source": [
        "7. Compare the results"
      ],
      "metadata": {
        "id": "YwEx_chHkQuP"
      }
    },
    {
      "cell_type": "code",
      "source": [
        "print(\"\\nResults on Short Sequences:\")\n",
        "print(f\"Loss: {loss_short:.4f}, Accuracy: {accuracy_short:.4f}\")\n",
        "\n",
        "print(\"\\nResults on Long Sequences:\")\n",
        "print(f\"Loss: {loss_long:.4f}, Accuracy: {accuracy_long:.4f}\")"
      ],
      "metadata": {
        "colab": {
          "base_uri": "https://localhost:8080/"
        },
        "id": "fjVwinFXZfYu",
        "outputId": "2d820ffa-d7df-4a89-837f-e7a3518dfdd1"
      },
      "execution_count": 12,
      "outputs": [
        {
          "output_type": "stream",
          "name": "stdout",
          "text": [
            "\n",
            "Results on Short Sequences:\n",
            "Loss: 0.4187, Accuracy: 0.8300\n",
            "\n",
            "Results on Long Sequences:\n",
            "Loss: 0.3216, Accuracy: 0.8660\n"
          ]
        }
      ]
    },
    {
      "cell_type": "markdown",
      "source": [
        "8. Train and evaluate the Jordan RNN model on short sequences"
      ],
      "metadata": {
        "id": "nH1EFOcgkcuP"
      }
    },
    {
      "cell_type": "code",
      "source": [
        "print(\"\\nTraining RNN model on short sequences:\")\n",
        "rnn_model_short = build_jordan_rnn_model()\n",
        "loss_short, accuracy_short, history_short = train_and_evaluate_model(\n",
        "    rnn_model_short, x_train_short, y_train, x_test_short, y_test\n",
        ")"
      ],
      "metadata": {
        "colab": {
          "base_uri": "https://localhost:8080/"
        },
        "id": "rQMPvoZ-bYoY",
        "outputId": "a62d198f-7c6d-41c6-829c-a76e3c1b6d2f"
      },
      "execution_count": 16,
      "outputs": [
        {
          "output_type": "stream",
          "name": "stdout",
          "text": [
            "\n",
            "Training RNN model on short sequences:\n",
            "Epoch 1/5\n",
            "157/157 [==============================] - 7s 38ms/step - loss: 0.6008 - accuracy: 0.6557 - val_loss: 0.4317 - val_accuracy: 0.8066\n",
            "Epoch 2/5\n",
            "157/157 [==============================] - 7s 45ms/step - loss: 0.3577 - accuracy: 0.8448 - val_loss: 0.3961 - val_accuracy: 0.8320\n",
            "Epoch 3/5\n",
            "157/157 [==============================] - 6s 38ms/step - loss: 0.2839 - accuracy: 0.8849 - val_loss: 0.3626 - val_accuracy: 0.8368\n",
            "Epoch 4/5\n",
            "157/157 [==============================] - 7s 46ms/step - loss: 0.2421 - accuracy: 0.9029 - val_loss: 0.3814 - val_accuracy: 0.8410\n",
            "Epoch 5/5\n",
            "157/157 [==============================] - 6s 35ms/step - loss: 0.2197 - accuracy: 0.9126 - val_loss: 0.4367 - val_accuracy: 0.8300\n",
            "782/782 [==============================] - 7s 8ms/step - loss: 0.4342 - accuracy: 0.8325\n"
          ]
        }
      ]
    },
    {
      "cell_type": "markdown",
      "source": [
        "10. Train and evaluate the Jordan RNN model on long sequences"
      ],
      "metadata": {
        "id": "aEd_hfFXkiyI"
      }
    },
    {
      "cell_type": "code",
      "source": [
        "print(\"\\nTraining Jordan RNN model on long sequences:\")\n",
        "rnn_model_long = build_jordan_rnn_model()\n",
        "loss_long, accuracy_long, history_long = train_and_evaluate_model(\n",
        "    rnn_model_long, x_train_long, y_train, x_test_long, y_test\n",
        ")"
      ],
      "metadata": {
        "colab": {
          "base_uri": "https://localhost:8080/"
        },
        "id": "W8xBpogtdWF7",
        "outputId": "c34b44a0-2f5f-48ec-c3a2-f7089114f26c"
      },
      "execution_count": 18,
      "outputs": [
        {
          "output_type": "stream",
          "name": "stdout",
          "text": [
            "\n",
            "Training Jordan RNN model on long sequences:\n",
            "Epoch 1/5\n",
            "157/157 [==============================] - 30s 184ms/step - loss: 0.6458 - accuracy: 0.6192 - val_loss: 0.5228 - val_accuracy: 0.7624\n",
            "Epoch 2/5\n",
            "157/157 [==============================] - 31s 195ms/step - loss: 0.4066 - accuracy: 0.8220 - val_loss: 0.4037 - val_accuracy: 0.8210\n",
            "Epoch 3/5\n",
            "157/157 [==============================] - 28s 182ms/step - loss: 0.3619 - accuracy: 0.8436 - val_loss: 0.3707 - val_accuracy: 0.8316\n",
            "Epoch 4/5\n",
            "157/157 [==============================] - 29s 182ms/step - loss: 0.2679 - accuracy: 0.8908 - val_loss: 0.3658 - val_accuracy: 0.8396\n",
            "Epoch 5/5\n",
            "157/157 [==============================] - 29s 184ms/step - loss: 0.2180 - accuracy: 0.9158 - val_loss: 0.3373 - val_accuracy: 0.8538\n",
            "782/782 [==============================] - 25s 32ms/step - loss: 0.3375 - accuracy: 0.8548\n"
          ]
        }
      ]
    },
    {
      "cell_type": "markdown",
      "source": [
        "11. Compare the results on Jordan RNN model"
      ],
      "metadata": {
        "id": "g-Zx5d4LkniB"
      }
    },
    {
      "cell_type": "code",
      "source": [
        "print(\"\\nResults on Short Sequences:\")\n",
        "print(f\"Loss: {loss_short:.4f}, Accuracy: {accuracy_short:.4f}\")\n",
        "\n",
        "print(\"\\nResults on Long Sequences:\")\n",
        "print(f\"Loss: {loss_long:.4f}, Accuracy: {accuracy_long:.4f}\")"
      ],
      "metadata": {
        "colab": {
          "base_uri": "https://localhost:8080/"
        },
        "id": "dn-URo4pebST",
        "outputId": "309f66ea-81ac-4f1d-fa05-7d746f16e920"
      },
      "execution_count": 19,
      "outputs": [
        {
          "output_type": "stream",
          "name": "stdout",
          "text": [
            "\n",
            "Results on Short Sequences:\n",
            "Loss: 0.4342, Accuracy: 0.8325\n",
            "\n",
            "Results on Long Sequences:\n",
            "Loss: 0.3375, Accuracy: 0.8548\n"
          ]
        }
      ]
    },
    {
      "cell_type": "markdown",
      "source": [
        "12. Train and evaluate the Bidirectional RNN model on short sequences"
      ],
      "metadata": {
        "id": "HHWu4UwQkzuT"
      }
    },
    {
      "cell_type": "code",
      "source": [
        "print(\"\\nTraining  Bidirectional RNN model on short sequences:\")\n",
        "rnn_model_short = build_bidirectional_rnn_model()\n",
        "loss_short, accuracy_short, history_short = train_and_evaluate_model(\n",
        "    rnn_model_short, x_train_short, y_train, x_test_short, y_test\n",
        ")"
      ],
      "metadata": {
        "colab": {
          "base_uri": "https://localhost:8080/"
        },
        "id": "HVes3VMie-wC",
        "outputId": "be895557-b4eb-442d-ac59-0ad90be4784a"
      },
      "execution_count": 20,
      "outputs": [
        {
          "output_type": "stream",
          "name": "stdout",
          "text": [
            "\n",
            "Training  Birectional RNN model on short sequences:\n",
            "Epoch 1/5\n",
            "157/157 [==============================] - 16s 83ms/step - loss: 0.6469 - accuracy: 0.6181 - val_loss: 0.5406 - val_accuracy: 0.7580\n",
            "Epoch 2/5\n",
            "157/157 [==============================] - 15s 95ms/step - loss: 0.3761 - accuracy: 0.8326 - val_loss: 0.3500 - val_accuracy: 0.8454\n",
            "Epoch 3/5\n",
            "157/157 [==============================] - 11s 70ms/step - loss: 0.2828 - accuracy: 0.8835 - val_loss: 0.3601 - val_accuracy: 0.8428\n",
            "Epoch 4/5\n",
            "157/157 [==============================] - 11s 68ms/step - loss: 0.2360 - accuracy: 0.9061 - val_loss: 0.3654 - val_accuracy: 0.8464\n",
            "Epoch 5/5\n",
            "157/157 [==============================] - 12s 77ms/step - loss: 0.2052 - accuracy: 0.9204 - val_loss: 0.3872 - val_accuracy: 0.8410\n",
            "782/782 [==============================] - 11s 13ms/step - loss: 0.3815 - accuracy: 0.8415\n"
          ]
        }
      ]
    },
    {
      "cell_type": "markdown",
      "source": [
        "13. Train and evaluate the Bidirectional RNN model on long sequences"
      ],
      "metadata": {
        "id": "U7g10Rqvk7Eb"
      }
    },
    {
      "cell_type": "code",
      "source": [
        "print(\"\\nTraining Bidirectional RNN model on long sequences:\")\n",
        "rnn_model_long = build_bidirectional_rnn_model()\n",
        "loss_long, accuracy_long, history_long = train_and_evaluate_model(\n",
        "    rnn_model_long, x_train_long, y_train, x_test_long, y_test\n",
        ")"
      ],
      "metadata": {
        "colab": {
          "base_uri": "https://localhost:8080/"
        },
        "id": "IY0sn_Zvf5uW",
        "outputId": "3c214220-e904-4299-eebc-39dc490fce12"
      },
      "execution_count": 22,
      "outputs": [
        {
          "output_type": "stream",
          "name": "stdout",
          "text": [
            "\n",
            "Training Bidirectional RNN model on long sequences:\n",
            "Epoch 1/5\n",
            "157/157 [==============================] - 58s 353ms/step - loss: 0.6473 - accuracy: 0.6182 - val_loss: 0.5760 - val_accuracy: 0.6702\n",
            "Epoch 2/5\n",
            "157/157 [==============================] - 57s 364ms/step - loss: 0.5596 - accuracy: 0.7128 - val_loss: 0.5009 - val_accuracy: 0.7458\n",
            "Epoch 3/5\n",
            "157/157 [==============================] - 54s 345ms/step - loss: 0.3933 - accuracy: 0.8264 - val_loss: 0.4530 - val_accuracy: 0.7830\n",
            "Epoch 4/5\n",
            "157/157 [==============================] - 57s 364ms/step - loss: 0.2988 - accuracy: 0.8741 - val_loss: 0.3722 - val_accuracy: 0.8594\n",
            "Epoch 5/5\n",
            "157/157 [==============================] - 54s 345ms/step - loss: 0.2588 - accuracy: 0.8967 - val_loss: 0.3788 - val_accuracy: 0.8292\n",
            "782/782 [==============================] - 35s 45ms/step - loss: 0.3759 - accuracy: 0.8321\n"
          ]
        }
      ]
    },
    {
      "cell_type": "markdown",
      "source": [
        "14. Compare the results on Bidirectional model"
      ],
      "metadata": {
        "id": "dxO-EPlcksQB"
      }
    },
    {
      "cell_type": "code",
      "source": [
        "print(\"\\nResults Bidirectional on Short Sequences:\")\n",
        "print(f\"Loss: {loss_short:.4f}, Accuracy: {accuracy_short:.4f}\")\n",
        "\n",
        "print(\"\\nResults Bidirectional on Long Sequences:\")\n",
        "print(f\"Loss: {loss_long:.4f}, Accuracy: {accuracy_long:.4f}\")"
      ],
      "metadata": {
        "colab": {
          "base_uri": "https://localhost:8080/"
        },
        "id": "QUPn3gekgDTC",
        "outputId": "feabf65b-1ec1-49eb-ba82-26e0f99e5373"
      },
      "execution_count": 23,
      "outputs": [
        {
          "output_type": "stream",
          "name": "stdout",
          "text": [
            "\n",
            "Results Bidirectional on Short Sequences:\n",
            "Loss: 0.3815, Accuracy: 0.8415\n",
            "\n",
            "Results Bidirectional on Long Sequences:\n",
            "Loss: 0.3759, Accuracy: 0.8321\n"
          ]
        }
      ]
    }
  ]
}